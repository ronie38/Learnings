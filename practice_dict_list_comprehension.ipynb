{
 "cells": [
  {
   "cell_type": "code",
   "execution_count": 2,
   "metadata": {},
   "outputs": [],
   "source": [
    "user_dict =  {\n",
    "    \"therapeutic_area\": \"Oncology\", # (mandatory)\n",
    "    \"product_name\": \"PARACETAMOL\",\n",
    "    \"disease_name\": \"NSCLC\",\n",
    "    \"market_scope\": \"global or US\",  #(mandatory)\n",
    "}"
   ]
  },
  {
   "cell_type": "code",
   "execution_count": 17,
   "metadata": {},
   "outputs": [
    {
     "data": {
      "text/plain": [
       "' particularly related to the indicated product name, disease name, market scope'"
      ]
     },
     "execution_count": 17,
     "metadata": {},
     "output_type": "execute_result"
    }
   ],
   "source": [
    "search_keys = \"\"\n",
    "search_keys = \", \".join([x.replace(\"_\", \" \") for x in user_dict.keys() if x!=\"therapeutic_area\"])\n",
    "\n",
    "if search_keys!= \"\":\n",
    "    search_keys = f\" particularly related to the indicated {search_keys}\"\n",
    "    \n",
    "search_keys"
   ]
  },
  {
   "cell_type": "code",
   "execution_count": 20,
   "metadata": {},
   "outputs": [
    {
     "data": {
      "text/plain": [
       "{'product_name': '', 'disease_name': '', 'market_scope': ''}"
      ]
     },
     "execution_count": 20,
     "metadata": {},
     "output_type": "execute_result"
    }
   ],
   "source": [
    "search_keys = \"\"\n",
    "search_keys = dict((k, k.replace(\"_\", \" \")) for k in user_dict if k != \"therapeutic_area\").values() #)\n",
    "\n",
    "\n",
    "# if search_keys:\n",
    "#     search_keys = f\" particularly related to the indicated {search_keys}\"\n",
    "search_keys\n"
   ]
  },
  {
   "cell_type": "code",
   "execution_count": null,
   "metadata": {},
   "outputs": [],
   "source": [
    "prompt_template = \"\"\"\n",
    "You are a pharmaceutical medical affairs professional.\n",
    "Analyze the fetched article and summarize the latest trends related to the specified therapeutic area. Your summary should clearly highlight:\n",
    "\n",
    "Emerging trends and advancements in the specified therapeutic area{search_keys}.\n",
    "Current role or relevance (if any).\n",
    "\n",
    "Key insights, breakthroughs, or controversies noted in recent medical or scientific discussions.\n",
    "Ensure your summary leverages recent sources.\n",
    "\n",
    "Input format:\n",
    "You will recieve an user input in JSON key, value format.\n",
    "\n",
    "Rules:\n",
    "1. Provide only the final answer. It is important that you do not include any explanation on the steps below.\n",
    "2. Do not show the intermediate steps information.\n",
    "\"\"\"\n",
    "\n",
    "\n",
    "system_prompt = prompt_template.format(search_keys = search_keys)"
   ]
  }
 ],
 "metadata": {
  "kernelspec": {
   "display_name": "launchenv",
   "language": "python",
   "name": "launchenv"
  },
  "language_info": {
   "codemirror_mode": {
    "name": "ipython",
    "version": 3
   },
   "file_extension": ".py",
   "mimetype": "text/x-python",
   "name": "python",
   "nbconvert_exporter": "python",
   "pygments_lexer": "ipython3",
   "version": "3.10.16"
  }
 },
 "nbformat": 4,
 "nbformat_minor": 4
}
